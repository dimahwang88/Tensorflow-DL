{
 "cells": [
  {
   "cell_type": "code",
   "execution_count": 86,
   "metadata": {
    "_cell_guid": "ed845ee2-a752-49c3-a3ea-65867a3edddd",
    "_uuid": "d37a8d32d24782c64e03a8499d9af603930c3eb2",
    "collapsed": false
   },
   "outputs": [
    {
     "name": "stdout",
     "output_type": "stream",
     "text": [
      "[[-0.51565534]\n",
      " [-0.31162673]\n",
      " [ 1.94924198]]\n",
      "[[        nan]\n",
      " [        nan]\n",
      " [ 0.66744057]]\n",
      "nan\n"
     ]
    }
   ],
   "source": [
    "# This Python 3 environment comes with many helpful analytics libraries installed\n",
    "# It is defined by the kaggle/python docker image: https://github.com/kaggle/docker-python\n",
    "# For example, here's several helpful packages to load in \n",
    "\n",
    "import numpy as np # linear algebra\n",
    "import pandas as pd # data processing, CSV file I/O (e.g. pd.read_csv)\n",
    "import math\n",
    "\n",
    "# Any results you write to the current directory are saved as output.\n",
    "def init_parameters(dim_list):\n",
    "        parameters = {} #parameter is a dictionary that will contain weight and bias parameters\n",
    "        for layer in range(1, len(dim_list)):\n",
    "            parameters['W'+ str(layer)] = np.random.randn(dim_list[layer], dim_list[layer -1]) * 0.01\n",
    "            parameters['b'+ str(layer)] = np.random.randn(dim_list[layer],1)\n",
    "            \n",
    "        return parameters\n",
    "\n",
    "def forward_prop(A, W, b):\n",
    "    Z = np.dot(W, A) +b\n",
    "    assert(Z.shape == (W.shape[0], A.shape[1]))\n",
    "    result = (W, b, Z) \n",
    "    return Z, result\n",
    "\n",
    "def sigmoid_f(Z):\n",
    "    A = 1/(1-np.exp(Z))\n",
    "    cache = (A, Z)\n",
    "    return A, cache\n",
    "\n",
    "def relu_f(Z):\n",
    "    A = np.max(0, Z)\n",
    "    cache = (A, Z)\n",
    "    return A, cache\n",
    "\n",
    "def forward_activation(A_prev, W, b, act_func):\n",
    "    if act_func == 'sigmoid':\n",
    "        Z, result = forward_prop(A_prev, W, b)\n",
    "        A, cache_act = sigmoid_f(Z)\n",
    "    elif act_func == 'relu':\n",
    "        Z, result = forward_prop(A_prev, W, b)\n",
    "        A, cache_act = relu_f(Z)        \n",
    "    assert(A.shape == (W.shape[0], A_prev.shape[1]))\n",
    "    cache = (result, cache_act)\n",
    "    \n",
    "    return A, cache\n",
    "\n",
    "# A -> activations\n",
    "# Y ->labels\n",
    "# Hy′(y):=−∑i(y′ilog(yi)+(1−y′i)log(1−yi)) Cross-entropy loss just for test \n",
    "def cost_f(A, Y):\n",
    "    n = Y.shape[1]\n",
    "    cost = - np.sum(np.multiply(Y, np.log(A)) + np.multiply(1-Y, np.log(1 -A)))/n\n",
    "    cost = np.squeeze(cost)\n",
    "    assert(cost.shape == ())\n",
    "    return cost\n",
    "    \n",
    "#check: this creates NN of input layer of 5 nodes, hidden layer of 3 nodes, output layer of 2 nodes.    \n",
    "parameters = init_parameters([5,3,2])\n",
    "\n",
    "#test\n",
    "A = np.random.randn(5, 1)\n",
    "label = np.array([1,0,0])\n",
    "label.shape = (1,3) \n",
    "#print label\n",
    "activ, cache = forward_activation(A, parameters['W1'], parameters['b1'], act_func='sigmoid')\n",
    "#print activ\n",
    "cost = cost_f(activ, label)\n",
    "print cost"
   ]
  },
  {
   "cell_type": "code",
   "execution_count": null,
   "metadata": {
    "_uuid": "2a8e9784348ec9c25dd0c8324b72937cc213f50f",
    "collapsed": true
   },
   "outputs": [],
   "source": []
  },
  {
   "cell_type": "code",
   "execution_count": null,
   "metadata": {
    "collapsed": true
   },
   "outputs": [],
   "source": []
  }
 ],
 "metadata": {
  "anaconda-cloud": {},
  "kernelspec": {
   "display_name": "Python [conda root]",
   "language": "python",
   "name": "conda-root-py"
  },
  "language_info": {
   "codemirror_mode": {
    "name": "ipython",
    "version": 2
   },
   "file_extension": ".py",
   "mimetype": "text/x-python",
   "name": "python",
   "nbconvert_exporter": "python",
   "pygments_lexer": "ipython2",
   "version": "2.7.12"
  }
 },
 "nbformat": 4,
 "nbformat_minor": 1
}
