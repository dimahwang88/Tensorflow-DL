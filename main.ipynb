{
  "cells": [
    {
      "metadata": {
        "_cell_guid": "ed845ee2-a752-49c3-a3ea-65867a3edddd",
        "_uuid": "d37a8d32d24782c64e03a8499d9af603930c3eb2",
        "trusted": true,
        "collapsed": true
      },
      "cell_type": "code",
      "source": "# This Python 3 environment comes with many helpful analytics libraries installed\n# It is defined by the kaggle/python docker image: https://github.com/kaggle/docker-python\n# For example, here's several helpful packages to load in \n\nimport numpy as np # linear algebra\nimport pandas as pd # data processing, CSV file I/O (e.g. pd.read_csv)\n\n# Input data files are available in the \"../input/\" directory.\n# For example, running this (by clicking run or pressing Shift+Enter) will list the files in the input directory\n\nfrom subprocess import check_output\n#print(check_output([\"ls\", \"../input\"]).decode(\"utf8\"))\n\ntrain_data = pd.read_csv(\"../input/train.csv\")\n#print(train_data)\n\n# Any results you write to the current directory are saved as output.\ndef init_parameters(dim_list):\n        parameters = {} #parameter is a dictionary that will contain weight and bias parameters\n        for layer in range(1, len(dim_list)):\n            parameters['W'+ str(layer)] = np.random.randn(dim_list[layer], dim_list[layer -1]) * 0.01\n            parameters['b'+ str(layer)] = np.random.randn(dim_list[layer],1)\n            \n        return parameters\n\n#check: this creates NN of input layer of 5 nodes, hidden layer of 3 nodes, output layer of 2 nodes.    \nparameters = init_parameters([5,3,2])\nprint(parameters)\n            \n    ",
      "execution_count": null,
      "outputs": []
    },
    {
      "metadata": {
        "collapsed": true,
        "trusted": true,
        "_uuid": "2a8e9784348ec9c25dd0c8324b72937cc213f50f"
      },
      "cell_type": "code",
      "source": "",
      "execution_count": null,
      "outputs": []
    }
  ],
  "metadata": {
    "kernelspec": {
      "display_name": "Python 3",
      "language": "python",
      "name": "python3"
    },
    "language_info": {
      "name": "python",
      "version": "3.6.1",
      "mimetype": "text/x-python",
      "codemirror_mode": {
        "name": "ipython",
        "version": 3
      },
      "pygments_lexer": "ipython3",
      "nbconvert_exporter": "python",
      "file_extension": ".py"
    }
  },
  "nbformat": 4,
  "nbformat_minor": 1
}