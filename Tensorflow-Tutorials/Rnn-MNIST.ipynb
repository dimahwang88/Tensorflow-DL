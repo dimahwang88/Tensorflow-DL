{
 "cells": [
  {
   "cell_type": "code",
   "execution_count": 1,
   "metadata": {
    "collapsed": false
   },
   "outputs": [
    {
     "name": "stdout",
     "output_type": "stream",
     "text": [
      "Extracting ../../MNIST_data/train-images-idx3-ubyte.gz\n",
      "Extracting ../../MNIST_data/train-labels-idx1-ubyte.gz\n",
      "Extracting ../../MNIST_data/t10k-images-idx3-ubyte.gz\n",
      "Extracting ../../MNIST_data/t10k-labels-idx1-ubyte.gz\n"
     ]
    }
   ],
   "source": [
    "import tensorflow as tf\n",
    "from tensorflow.examples.tutorials.mnist import input_data\n",
    "mnist = input_data.read_data_sets('../../MNIST_data',one_hot=True)"
   ]
  },
  {
   "cell_type": "code",
   "execution_count": 2,
   "metadata": {
    "collapsed": true
   },
   "outputs": [],
   "source": [
    "from tensorflow.contrib import rnn"
   ]
  },
  {
   "cell_type": "code",
   "execution_count": 3,
   "metadata": {
    "collapsed": true
   },
   "outputs": [],
   "source": [
    "timesteps = 28\n",
    "n_input = 28\n",
    "n_class = 10\n",
    "n_hidden = 128\n",
    "batch_size = 64\n",
    "\n",
    "X = tf.placeholder(tf.float32, shape=[None, timesteps, n_input])\n",
    "Y = tf.placeholder(tf.float32, shape=[None, n_class])\n",
    "\n",
    "weights = {\n",
    "    'W': tf.Variable(tf.random_normal([n_hidden, n_class]))\n",
    "}\n",
    "biases ={\n",
    "    'b': tf.Variable(tf.random_normal([n_class]))\n",
    "}"
   ]
  },
  {
   "cell_type": "code",
   "execution_count": 4,
   "metadata": {
    "collapsed": true
   },
   "outputs": [],
   "source": [
    "def RNN(x, weights, biases):\n",
    "    x = tf.unstack(x, timesteps, 1)\n",
    "    lstm_cell = rnn.BasicLSTMCell(n_hidden, forget_bias=1.0)\n",
    "    outputs,states = rnn.static_rnn(lstm_cell, x, dtype=tf.float32)\n",
    "    return tf.matmul(outputs[-1], weights['W'])+biases['b']"
   ]
  },
  {
   "cell_type": "code",
   "execution_count": 5,
   "metadata": {
    "collapsed": false
   },
   "outputs": [],
   "source": [
    "logits = RNN(X, weights, biases)\n",
    "prediction = tf.nn.softmax(logits)\n",
    "\n",
    "loss_op = tf.reduce_mean(tf.nn.softmax_cross_entropy_with_logits(logits=logits, labels=Y))\n",
    "train = tf.train.GradientDescentOptimizer(learning_rate=0.001).minimize(loss_op)\n",
    "\n",
    "correct_pred = tf.equal(tf.argmax(prediction,1), tf.argmax(Y,1))\n",
    "accuracy = tf.reduce_mean(tf.cast(correct_pred, tf.float32))\n",
    "\n",
    "#correct_pred = tf.equal(tf.argmax(prediction,1), tf.argmax(Y,1))\n",
    "#accuracy = tf.reduce_mean(tf.cast(correct_pred, tf.float32))\n"
   ]
  },
  {
   "cell_type": "code",
   "execution_count": null,
   "metadata": {
    "collapsed": false
   },
   "outputs": [
    {
     "name": "stdout",
     "output_type": "stream",
     "text": [
      "Step 1, Minibatch loss: 2.9651, Training accuracy: 0.141\n",
      "Step 200, Minibatch loss: 2.1078, Training accuracy: 0.281\n",
      "Step 400, Minibatch loss: 1.9383, Training accuracy: 0.312\n",
      "Step 600, Minibatch loss: 1.7356, Training accuracy: 0.484\n",
      "Step 800, Minibatch loss: 1.8728, Training accuracy: 0.391\n",
      "Step 1000, Minibatch loss: 1.5291, Training accuracy: 0.500\n"
     ]
    }
   ],
   "source": [
    "sess = tf.Session()\n",
    "sess.run(tf.global_variables_initializer())\n",
    "\n",
    "for step in range(1, 10001):\n",
    "    batch_X, batch_Y = mnist.train.next_batch(batch_size)\n",
    "    #print(batch_Y.shape)\n",
    "    batch_X = batch_X.reshape((batch_size, timesteps, n_input))\n",
    "    sess.run(train, feed_dict={X: batch_X, Y: batch_Y})\n",
    "    if step % 200 == 0 or step == 1:\n",
    "        loss, acc = sess.run([loss_op, accuracy], feed_dict={X: batch_X, Y: batch_Y})\n",
    "        print(\"Step \" + str(step) + \", Minibatch loss: \" + \"{:.4f}\".format(loss) + \\\n",
    "             \", Training accuracy: \"+ \"{:.3f}\".format(acc))"
   ]
  },
  {
   "cell_type": "code",
   "execution_count": null,
   "metadata": {
    "collapsed": true
   },
   "outputs": [],
   "source": []
  }
 ],
 "metadata": {
  "anaconda-cloud": {},
  "kernelspec": {
   "display_name": "Python [default]",
   "language": "python",
   "name": "python2"
  },
  "language_info": {
   "codemirror_mode": {
    "name": "ipython",
    "version": 2
   },
   "file_extension": ".py",
   "mimetype": "text/x-python",
   "name": "python",
   "nbconvert_exporter": "python",
   "pygments_lexer": "ipython2",
   "version": "2.7.12"
  }
 },
 "nbformat": 4,
 "nbformat_minor": 2
}
