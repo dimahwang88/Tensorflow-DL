{
 "cells": [
  {
   "cell_type": "code",
   "execution_count": 69,
   "metadata": {
    "collapsed": false
   },
   "outputs": [],
   "source": [
    "import tensorflow as tf\n",
    "from tensorflow.examples.tutorials.mnist import input_data\n",
    "import numpy as np\n",
    "import matplotlib.gridspec as gridspec\n",
    "import os"
   ]
  },
  {
   "cell_type": "code",
   "execution_count": 55,
   "metadata": {
    "collapsed": false
   },
   "outputs": [
    {
     "name": "stdout",
     "output_type": "stream",
     "text": [
      "Extracting ../../MNIST_data/train-images-idx3-ubyte.gz\n",
      "Extracting ../../MNIST_data/train-labels-idx1-ubyte.gz\n",
      "Extracting ../../MNIST_data/t10k-images-idx3-ubyte.gz\n",
      "Extracting ../../MNIST_data/t10k-labels-idx1-ubyte.gz\n"
     ]
    }
   ],
   "source": [
    "n_input = 784\n",
    "n_h1 = 128\n",
    "n_h2 = 1\n",
    "n_z = 100\n",
    "mb_size = 128\n",
    "#Z_dim = 100\n",
    "\n",
    "mnist = input_data.read_data_sets('../../MNIST_data', one_hot=True)\n",
    "\n",
    "def xavier_init(size):\n",
    "    in_dim = size[0]\n",
    "    xavier_stddev = 1. / tf.sqrt(in_dim / 2.)\n",
    "    return tf.random_normal(shape=size, stddev=xavier_stddev)\n",
    "\n",
    "X = tf.placeholder(tf.float32, shape=[None, 784])\n",
    "\n",
    "D_weights= \\\n",
    "{\n",
    "    'W1': tf.Variable(xavier_init([n_input, n_h1])),\n",
    "    'W2': tf.Variable(xavier_init([n_h1, n_h2]))\n",
    "}\n",
    "\n",
    "D_biases = \\\n",
    "{\n",
    "    'b1': tf.Variable(tf.zeros(shape=[n_h1])),\n",
    "    'b2': tf.Variable(tf.zeros(shape=[n_h2]))\n",
    "}\n",
    "\n",
    "Z = tf.placeholder(tf.float32, shape=[None, n_z])\n",
    "\n",
    "G_weights = \\\n",
    "{\n",
    "    'W1': tf.Variable(xavier_init([n_z, n_h1])),\n",
    "    'W2': tf.Variable(xavier_init([n_h1, n_input]))\n",
    "}\n",
    "\n",
    "G_biases = \\\n",
    "{\n",
    "    'b1': tf.Variable(tf.zeros(shape=[n_h1])),\n",
    "    'b2': tf.Variable(tf.zeros(shape=[n_input]))\n",
    "}"
   ]
  },
  {
   "cell_type": "code",
   "execution_count": 57,
   "metadata": {
    "collapsed": true
   },
   "outputs": [],
   "source": [
    "def sample_Z(m, n):\n",
    "    return np.random.uniform(-1., 1., size=[m, n])\n",
    "\n",
    "def descriminator(x):\n",
    "    h1 = tf.nn.relu(tf.matmul(x, D_weights['W1']) + D_biases['b1'])\n",
    "    D_logit = tf.matmul(h1, D_weights['W2']) + D_biases['b2']\n",
    "    D_prob = tf.nn.sigmoid(D_logit)\n",
    "    return D_logit, D_prob\n",
    "\n",
    "def generator(z):\n",
    "    h1 = tf.nn.relu(tf.matmul(z, G_weights['W1']) + G_biases['b1'])\n",
    "    G_logit = tf.matmul(h1, G_weights['W2']) + G_biases['b2']\n",
    "    G_prob = tf.nn.sigmoid(G_logit)    \n",
    "    return G_prob"
   ]
  },
  {
   "cell_type": "code",
   "execution_count": 63,
   "metadata": {
    "collapsed": true
   },
   "outputs": [],
   "source": [
    "def plot(samples):\n",
    "    fig = plt.figure(figsize=(4, 4))\n",
    "    gs = gridspec.GridSpec(4, 4)\n",
    "    gs.update(wspace=0.05, hspace=0.05)\n",
    "\n",
    "    for i, sample in enumerate(samples):\n",
    "        ax = plt.subplot(gs[i])\n",
    "        plt.axis('off')\n",
    "        ax.set_xticklabels([])\n",
    "        ax.set_yticklabels([])\n",
    "        ax.set_aspect('equal')\n",
    "        plt.imshow(sample.reshape(28, 28), cmap='Greys_r')\n",
    "\n",
    "    return fig"
   ]
  },
  {
   "cell_type": "code",
   "execution_count": 56,
   "metadata": {
    "collapsed": false
   },
   "outputs": [],
   "source": [
    "G = generator(Z)\n",
    "\n",
    "D_log_fake, D_prob_fake = descriminator(G)\n",
    "D_log_real, D_prob_real = descriminator(X)\n",
    "\n",
    "D_loss_real = tf.reduce_mean(tf.nn.sigmoid_cross_entropy_with_logits(logits=D_log_real, labels=tf.ones_like(D_log_real)))\n",
    "D_loss_fake = tf.reduce_mean(tf.nn.sigmoid_cross_entropy_with_logits(logits=D_log_fake, labels=tf.ones_like(D_log_fake)))\n",
    "\n",
    "D_loss = D_loss_real + D_loss_fake\n",
    "G_loss = tf.reduce_mean(tf.nn.sigmoid_cross_entropy_with_logits(logits=D_log_fake, labels=tf.ones_like(D_log_fake)))\n",
    "\n",
    "D_solver = tf.train.AdamOptimizer().minimize(D_loss, var_list=[D_weights['W1'], D_weights['W2'], D_biases['b1'], D_biases['b2']])\n",
    "G_solver = tf.train.AdamOptimizer().minimize(G_loss, var_list=[G_weights['W1'], G_weights['W2'], G_biases['b1'], G_biases['b2']])"
   ]
  },
  {
   "cell_type": "code",
   "execution_count": null,
   "metadata": {
    "collapsed": false
   },
   "outputs": [
    {
     "name": "stdout",
     "output_type": "stream",
     "text": [
      "Iter: 1\n",
      "D loss: 0.8822\n",
      "G_loss: 0.02006\n",
      "()\n",
      "Iter: 2\n",
      "D loss: 5.383e-06\n",
      "G_loss: 8.706e-24\n",
      "()\n",
      "Iter: 3\n",
      "D loss: 5.861e-07\n",
      "G_loss: 1.323e-26\n",
      "()\n"
     ]
    }
   ],
   "source": [
    "if not os.path.exists('out/'):\n",
    "    os.makedirs('out/')\n",
    "\n",
    "i = 0\n",
    "\n",
    "sess = tf.Session()\n",
    "sess.run(tf.global_variables_initializer())\n",
    "\n",
    "for it in range(1000000):\n",
    "    if it % 1000 == 0:\n",
    "        samples = sess.run(G, feed_dict={Z: sample_Z(16, n_z)})\n",
    "\n",
    "        fig = plot(samples)\n",
    "        plt.savefig('out/{}.png'.format(str(i).zfill(3)), bbox_inches='tight')\n",
    "        i += 1\n",
    "        plt.close(fig)\n",
    "        \n",
    "    X_mb, _ = mnist.train.next_batch(mb_size)\n",
    "    \n",
    "    _, D_loss_curr = sess.run([D_solver, D_loss], feed_dict={X: X_mb, Z: sample_Z(mb_size, n_z)})\n",
    "    _, G_loss_curr = sess.run([G_solver, G_loss], feed_dict={Z: sample_Z(mb_size, n_z)})\n",
    "    \n",
    "    if it % 1000 == 0:\n",
    "        print('Iter: {}'.format(i))\n",
    "        print('D loss: {:.4}'. format(D_loss_curr))\n",
    "        print('G_loss: {:.4}'.format(G_loss_curr))\n",
    "        print()"
   ]
  },
  {
   "cell_type": "code",
   "execution_count": null,
   "metadata": {
    "collapsed": true
   },
   "outputs": [],
   "source": []
  }
 ],
 "metadata": {
  "anaconda-cloud": {},
  "kernelspec": {
   "display_name": "Python [conda root]",
   "language": "python",
   "name": "conda-root-py"
  },
  "language_info": {
   "codemirror_mode": {
    "name": "ipython",
    "version": 2
   },
   "file_extension": ".py",
   "mimetype": "text/x-python",
   "name": "python",
   "nbconvert_exporter": "python",
   "pygments_lexer": "ipython2",
   "version": "2.7.12"
  }
 },
 "nbformat": 4,
 "nbformat_minor": 1
}
